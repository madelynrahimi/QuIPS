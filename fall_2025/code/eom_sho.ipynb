{
 "cells": [
  {
   "cell_type": "code",
   "execution_count": 1,
   "id": "61105a31-646c-4741-9845-4ac4097b543f",
   "metadata": {},
   "outputs": [],
   "source": [
    "from qutip import *\n",
    "import numpy as np\n",
    "from scipy.integrate import solve_ivp\n",
    "import matplotlib.pyplot as plt"
   ]
  },
  {
   "cell_type": "code",
   "execution_count": 5,
   "id": "90f2ef52-b9d1-464a-ad25-bf42f894c369",
   "metadata": {
    "tags": []
   },
   "outputs": [],
   "source": [
    "w1 = 1\n",
    "w2 = 0.5\n",
    "m = 1"
   ]
  },
  {
   "cell_type": "code",
   "execution_count": 100,
   "id": "53fede16-8a90-409b-ba4d-546cb03c5194",
   "metadata": {
    "tags": []
   },
   "outputs": [],
   "source": [
    "def sho_eqns(t, vars, w, m=1):\n",
    "    \n",
    "    var_x, var_p, cov_xp = vars\n",
    "    d_var_x = 2/m * cov_xp\n",
    "    d_var_p = -2*m*w**2 * cov_xp\n",
    "    d_cov_xp = 1/m * var_p - m*w**2 * var_x \n",
    "    return [d_var_x,d_var_p,d_cov_xp]"
   ]
  },
  {
   "cell_type": "code",
   "execution_count": 101,
   "id": "732e3c2e-01d1-439b-bc10-d9a7ffc1181a",
   "metadata": {
    "tags": []
   },
   "outputs": [],
   "source": [
    "T1 = (2*np.pi)/w1\n",
    "T2 = (2*np.pi)/w2\n",
    "tau1= T1/4\n",
    "tau2= T2/4\n",
    "\n",
    "t_span_w1 = [0,tau1]\n",
    "t_span_w2 = [tau1,tau2]\n",
    "\n",
    "var_x0 = 1/(2*m*w1)\n",
    "var_p0 = m*w1/2\n",
    "cov_xp0 = 0\n",
    "y0 = [var_x0, var_p0, cov_xp0]\n",
    "\n",
    "t_eval_seg1 = np.linspace(*t_span_w1,10)\n",
    "t_eval_seg2 = np.linspace(*t_span_w2,10)"
   ]
  },
  {
   "cell_type": "code",
   "execution_count": 122,
   "id": "dcb2a704-7909-47ea-aff2-f7497bf5c573",
   "metadata": {
    "tags": []
   },
   "outputs": [
    {
     "data": {
      "text/plain": [
       "array([1.57079633, 1.74532925, 1.91986218, 2.0943951 , 2.26892803,\n",
       "       2.44346095, 2.61799388, 2.7925268 , 2.96705973, 3.14159265])"
      ]
     },
     "execution_count": 122,
     "metadata": {},
     "output_type": "execute_result"
    }
   ],
   "source": [
    "seg_1 = solve_ivp(sho_eqns, t_span_w1, y0,t_eval=t_eval_seg1,args=(w1,m))\n",
    "var_x1 = seg_1.y[0][-1]\n",
    "var_p1 = seg_1.y[1][-1]\n",
    "cov_xp1 = seg_1.y[2][-1]\n",
    "y1 = [var_x1, var_p1, cov_xp1]\n",
    "\n",
    "seg_2 = solve_ivp(sho_eqns, t_span_w2, y1, t_eval=t_eval_seg2, args=(w2,m))\n",
    "\n",
    "t_full = np.concatenate([seg_1.t, seg_2.t[1:]])\n",
    "y_full = np.hstack([seg_1.y, seg_2.y[:, 1:]])\n",
    "\n",
    "\n",
    "seg_2.t\n"
   ]
  },
  {
   "cell_type": "code",
   "execution_count": 121,
   "id": "8162c260-2781-4e01-88a3-c8796824baec",
   "metadata": {
    "tags": []
   },
   "outputs": [
    {
     "data": {
      "text/plain": [
       "array([1.74532925, 1.91986218, 2.0943951 , 2.26892803, 2.44346095,\n",
       "       2.61799388, 2.7925268 , 2.96705973, 3.14159265])"
      ]
     },
     "execution_count": 121,
     "metadata": {},
     "output_type": "execute_result"
    }
   ],
   "source": [
    "seg_2.t[1:]"
   ]
  },
  {
   "cell_type": "code",
   "execution_count": 103,
   "id": "ed1e5735-db7e-49d3-9d15-4f0ed036c39e",
   "metadata": {
    "tags": []
   },
   "outputs": [
    {
     "data": {
      "text/plain": [
       "array([[0.5       , 0.51139354, 0.54523062, 0.60047079, 0.6754092 ,\n",
       "        0.76782804, 0.87497902, 0.99357935, 1.11988109, 1.25011521],\n",
       "       [0.5       , 0.49715162, 0.48869235, 0.4748823 , 0.4561477 ,\n",
       "        0.43304299, 0.40625525, 0.37660516, 0.34502973, 0.3124712 ],\n",
       "       [0.        , 0.0651189 , 0.12825774, 0.18751701, 0.24110708,\n",
       "        0.28733775, 0.32480388, 0.35239765, 0.36930312, 0.37498991]])"
      ]
     },
     "execution_count": 103,
     "metadata": {},
     "output_type": "execute_result"
    }
   ],
   "source": [
    "seg_2.y"
   ]
  },
  {
   "cell_type": "code",
   "execution_count": 104,
   "id": "16e7d907-1cb7-467a-a68f-08b019f935bd",
   "metadata": {
    "tags": []
   },
   "outputs": [
    {
     "data": {
      "image/png": "[encoded data removed]",
      "text/plain": [
       "<Figure size 640x480 with 1 Axes>"
      ]
     },
     "metadata": {},
     "output_type": "display_data"
    }
   ],
   "source": [
    "plt.plot(t_full, y_full[0], label=r'$\\sigma_x^2$')\n",
    "plt.plot(t_full, y_full[1], label=r'$\\sigma_p^2$')\n",
    "plt.plot(t_full, y_full[2], label=r'$\\sigma_{xp}$')\n",
    "plt.xlabel(\"t\")\n",
    "plt.axhline(y=0, color='r', linestyle='--')\n",
    "plt.ylabel(\"Variance / Covariance\")\n",
    "plt.legend()\n",
    "plt.show()"
   ]
  },
  {
   "cell_type": "code",
   "execution_count": 127,
   "id": "afc62cad-dc52-4041-a610-dcd6bfcdb258",
   "metadata": {
    "tags": []
   },
   "outputs": [],
   "source": [
    "def ode_piecewise(cycles, w1, w2,n):\n",
    "    T1 = (2*np.pi)/w1\n",
    "    T2 = (2*np.pi)/w2\n",
    "    tau1= T1/4\n",
    "    tau2= T2/4\n",
    "\n",
    "    var_x0 = 1/(2*m*w1)\n",
    "    var_p0 = m*w1/2\n",
    "    cov_xp0 = 0\n",
    "    y0 = [var_x0, var_p0, cov_xp0]\n",
    "    t_span_w1 = [0,tau1]\n",
    "    t_span_w2 = [tau1,tau2]\n",
    "\n",
    "    t_eval_seg1 = np.linspace(*t_span_w1,n)\n",
    "    t_eval_seg2 = np.linspace(*t_span_w2,n)\n",
    "    \n",
    "    seg_tot = []\n",
    "    t_tot_list = []\n",
    "    y_tot_list = []\n",
    "    while cycles:\n",
    "        seg_1 = solve_ivp(sho_eqns, t_span_w1, y0,t_eval=t_eval_seg1,args=(w1,m))\n",
    "        y1 = seg_1.y[:, -1]\n",
    "        \n",
    "        seg_2 = solve_ivp(sho_eqns, t_span_w2, y1, t_eval=t_eval_seg2, args=(w2,m))\n",
    "        \n",
    "        seg_tot.append(seg_1)\n",
    "        seg_tot.append(seg_2)\n",
    "        \n",
    "        y0 = seg_2.y[:, -1]\n",
    "        t_span_w1 = [t_span_w2[1],tau1+t_span_w2[1]]\n",
    "        t_span_w2 = [t_span_w1[1],tau2+t_span_w1[1]]\n",
    "\n",
    "        t_eval_seg1 = np.linspace(*t_span_w1,n)\n",
    "        t_eval_seg2 = np.linspace(*t_span_w2,n)\n",
    "        \n",
    "        cycles -= 1 \n",
    "        \n",
    "    for index, seg in enumerate(seg_tot):\n",
    "        if index == 0:\n",
    "            t_tot_list.append(seg.t)\n",
    "            y_tot_list.append(seg.y)\n",
    "        else:\n",
    "            t_tot_list.append(seg.t[1:])\n",
    "            y_tot_list.append(seg.y[:, 1:])\n",
    "            \n",
    "    t_tot = np.concatenate(t_tot_list)\n",
    "    y_tot = np.hstack(y_tot_list)\n",
    "    return t_tot, y_tot\n",
    "\n",
    "        "
   ]
  },
  {
   "cell_type": "code",
   "execution_count": 130,
   "id": "1835138a-24dc-4ce4-896f-d76a83557846",
   "metadata": {
    "tags": []
   },
   "outputs": [],
   "source": [
    "t_tot, y_tot = ode_piecewise(2, w1, w2,10)"
   ]
  },
  {
   "cell_type": "code",
   "execution_count": 131,
   "id": "6fe12423-8875-417f-825a-701d660cbe5c",
   "metadata": {
    "tags": []
   },
   "outputs": [
    {
     "data": {
      "image/png": "[encoded data removed]",
      "text/plain": [
       "<Figure size 640x480 with 1 Axes>"
      ]
     },
     "metadata": {},
     "output_type": "display_data"
    }
   ],
   "source": [
    "plt.scatter(t_tot, np.log10(y_tot[0]), label=r'$\\sigma_{xx}^2$')\n",
    "plt.scatter(t_tot, np.log10(y_tot[1]), label=r'$\\sigma_{pp}^2$')\n",
    "#plt.plot(t_tot, y_tot[2], label=r'$\\sigma_{xp}$')\n",
    "plt.axhline(y=0, color='r', linestyle='--')\n",
    "plt.xlabel(\"t\")\n",
    "plt.ylabel(\"Variance / Covariance\")\n",
    "plt.legend()\n",
    "plt.show()"
   ]
  },
  {
   "cell_type": "code",
   "execution_count": 85,
   "id": "42b847b2-d4ba-47fa-86a6-6a3c6b9ffe0b",
   "metadata": {
    "tags": []
   },
   "outputs": [],
   "source": [
    "def iho_eqns(t, vars, w, m=1):\n",
    "    \n",
    "    var_x, var_p, cov_xp = vars\n",
    "    d_var_x = 2/m * cov_xp\n",
    "    d_var_p = 2*m*w * cov_xp\n",
    "    d_cov_xp = 1/m * var_p + m*w**2 * var_x \n",
    "    return [d_var_x,d_var_p,d_cov_xp]"
   ]
  },
  {
   "cell_type": "code",
   "execution_count": 90,
   "id": "4cc91496-c791-4a1c-aacf-e00b43101b52",
   "metadata": {
    "tags": []
   },
   "outputs": [],
   "source": [
    "def iho_ode_piecewise(cycles, w1, w2,n):\n",
    "    T1 = (2*np.pi)/w1\n",
    "    T2 = (2*np.pi)/w2\n",
    "    tau1= T1/4\n",
    "    tau2= T2/4\n",
    "\n",
    "    var_x0 = 1/(2*m*w1)\n",
    "    var_p0 = m*w1/2\n",
    "    cov_xp0 = 0\n",
    "    y0 = [var_x0, var_p0, cov_xp0]\n",
    "    t_span_w1 = [0,tau1]\n",
    "    t_span_w2 = [tau1,tau2]\n",
    "\n",
    "    t_eval_seg1 = np.linspace(*t_span_w1,n)\n",
    "    t_eval_seg2 = np.linspace(*t_span_w2,n)\n",
    "    \n",
    "    seg_tot = []\n",
    "    t_tot_list = []\n",
    "    y_tot_list = []\n",
    "    while cycles:\n",
    "        seg_1 = solve_ivp(sho_eqns, t_span_w1, y0,t_eval=t_eval_seg1,args=(w1,m))\n",
    "        y1 = seg_1.y[:, -1]\n",
    "        \n",
    "        seg_2 = solve_ivp(iho_eqns, t_span_w2, y1, t_eval=t_eval_seg2, args=(w2,m))\n",
    "        \n",
    "        seg_tot.append(seg_1)\n",
    "        seg_tot.append(seg_2)\n",
    "        \n",
    "        y0 = seg_2.y[:, -1]\n",
    "        t_span_w1 = [t_span_w2[1],tau1+t_span_w2[1]]\n",
    "        t_span_w2 = [t_span_w1[1],tau2+t_span_w1[1]]\n",
    "\n",
    "        t_eval_seg1 = np.linspace(*t_span_w1,n)\n",
    "        t_eval_seg2 = np.linspace(*t_span_w2,n)\n",
    "        \n",
    "        cycles -= 1 \n",
    "    for index, seg in enumerate(seg_tot):\n",
    "        if index == 0:\n",
    "            t_tot_list.append(seg.t)\n",
    "            y_tot_list.append(seg.y)\n",
    "        else:\n",
    "            t_tot_list.append(seg.t[1:])\n",
    "            y_tot_list.append(seg.y[:, 1:])\n",
    "            \n",
    "    t_tot = np.concatenate(t_tot_list)\n",
    "    y_tot = np.hstack(y_tot_list)\n",
    "    return t_tot, y_tot\n",
    "\n",
    "        "
   ]
  },
  {
   "cell_type": "code",
   "execution_count": 95,
   "id": "98b23097-8403-4b14-bdd3-5784fea5000b",
   "metadata": {
    "tags": []
   },
   "outputs": [],
   "source": [
    "t_tot_iho, y_tot_iho = ode_piecewise(1, w1, w2,100)"
   ]
  },
  {
   "cell_type": "code",
   "execution_count": null,
   "id": "6beed61d-0230-4c28-a33b-4335ae185493",
   "metadata": {
    "tags": []
   },
   "outputs": [],
   "source": []
  },
  {
   "cell_type": "code",
   "execution_count": null,
   "id": "4cccd4f3-1cb6-4b55-bf62-f31564ebc9f2",
   "metadata": {},
   "outputs": [],
   "source": []
  }
 ],
 "metadata": {
  "kernelspec": {
   "display_name": "Python 3 (ipykernel)",
   "language": "python",
   "name": "python3"
  },
  "language_info": {
   "codemirror_mode": {
    "name": "ipython",
    "version": 3
   },
   "file_extension": ".py",
   "mimetype": "text/x-python",
   "name": "python",
   "nbconvert_exporter": "python",
   "pygments_lexer": "ipython3",
   "version": "3.11.5"
  }
 },
 "nbformat": 4,
 "nbformat_minor": 5
}
